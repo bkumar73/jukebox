{
 "cells": [
  {
   "cell_type": "markdown",
   "id": "909f4c7e-fc88-4b42-bd36-8c2f51ef4929",
   "metadata": {
    "tags": []
   },
   "source": [
    "## 🎶 Jukebox AI 🎶\n",
    "\n",
    "As K.R.A.P. records, we want to develop a predictive machine learning model that can analyze music and market trends to optimize our release strategy. We have two datasets that contains information for every musical aspect of each top 50 songs of the day for different countries, and also the name, country, artist and publication date of the tracks.\n",
    "\n",
    "To start, we are going to do Exploratory Data Analysis or EDA in short. EDA in machine learning involves analyzing datasets to summarize their main characteristics, often using visual methods. It helps in understanding the data's structure, detecting patterns, spotting anomalies, and forming hypotheses before applying machine learning models.\n",
    "\n",
    "Our goal is to find correlations between song characteristics to understand what makes a song popular. Identifying these relationships will help us determine whether and how strongly different variables are connected. \n",
    "\n",
    "![inner-loop-1](../images/inner-loop-1.png)\n"
   ]
  },
  {
   "cell_type": "markdown",
   "id": "5fe54910-80c2-4f20-9706-710d6d771941",
   "metadata": {
    "tags": []
   },
   "source": [
    "### 🐠 Install & Import packages\n",
    "\n",
    "We will need to install and import packages as we develop our notebook. We've created a couple of starter cells for you but you will need to add more as you work through the notebook."
   ]
  },
  {
   "cell_type": "code",
   "execution_count": null,
   "id": "59cf9474-201a-46e5-ad3b-81ed45ef6218",
   "metadata": {
    "tags": []
   },
   "outputs": [],
   "source": [
    "!pip install seaborn\n",
    "# Install more modules that you need here"
   ]
  },
  {
   "cell_type": "code",
   "execution_count": null,
   "id": "78a0c833-3c1b-477b-bbaa-69cce06b88f3",
   "metadata": {
    "tags": []
   },
   "outputs": [],
   "source": [
    "import seaborn as sns\n",
    "import pandas as pd\n",
    "import matplotlib.pyplot as plt\n",
    "# Import more modules and classes that you need here - REMEMBER TO RERUN THE CELL AFTER MODIFYING!"
   ]
  },
  {
   "cell_type": "markdown",
   "id": "524d5cd0-ff8b-4fe1-909a-f3a917c4a811",
   "metadata": {
    "tags": []
   },
   "source": [
    "### 📦 Load Data\n",
    "\n",
    "Let's get our hands into our data and explore it! We have two separate datasets; first one just contains the song characteristics and the other is the popularity info of the song and which country it is popular. We need both information for our model so we will merge the datasets and do the analysis on the entire data.\n",
    "\n",
    "The datasets are stored in GitHub, so if you don't have your dataset locally, this is one way to load them."
   ]
  },
  {
   "cell_type": "code",
   "execution_count": null,
   "id": "5bf94574-4ec7-4294-b74d-e0ca788243ce",
   "metadata": {
    "tags": []
   },
   "outputs": [],
   "source": [
    "# Load the datasets\n",
    "song_properties_data = pd.read_parquet('https://github.com/rhoai-mlops/jukebox/raw/refs/heads/main/99-data_prep/song_properties.parquet')\n",
    "song_properties_data"
   ]
  },
  {
   "cell_type": "code",
   "execution_count": null,
   "id": "93600c6f-8b62-4724-a4d2-038619896cbe",
   "metadata": {
    "tags": []
   },
   "outputs": [],
   "source": [
    "song_rankings_data = pd.read_parquet('https://github.com/rhoai-mlops/jukebox/raw/refs/heads/main/99-data_prep/song_rankings.parquet')\n",
    "song_rankings_data"
   ]
  },
  {
   "cell_type": "code",
   "execution_count": null,
   "id": "dfb3530a-2a1a-40c5-96af-891a3e6ede21",
   "metadata": {
    "tags": []
   },
   "outputs": [],
   "source": [
    "# Merge the datasets\n",
    "data = pd.merge(song_properties_data.drop([\"snapshot_date\", \"name\", \"artists\"], axis=1), song_rankings_data, on='spotify_id')\n",
    "data.head()"
   ]
  },
  {
   "cell_type": "code",
   "execution_count": null,
   "id": "6fc48163-d2f1-4af8-8b6b-3cee4a299f0b",
   "metadata": {
    "tags": []
   },
   "outputs": [],
   "source": [
    "# Transposing the dataframe, making it easier to compare statistics for each column. \n",
    "# Instead of scrolling horizontally through a wide table, you can read the statistics vertically.\n",
    "data.describe().T"
   ]
  },
  {
   "cell_type": "code",
   "execution_count": null,
   "id": "4e10a372-6645-463d-bf4a-6c512ef31bab",
   "metadata": {
    "tags": []
   },
   "outputs": [],
   "source": [
    "# Remove rows from a DataFrame that contain missing values\n",
    "# Dropping missing values ensures that the dataset used for training or analysis is complete and consistent\n",
    "data = data.dropna()\n",
    "data.head()"
   ]
  },
  {
   "cell_type": "code",
   "execution_count": null,
   "id": "833df5cf-2fd1-4db9-bb4a-9088e247186b",
   "metadata": {
    "tags": []
   },
   "outputs": [],
   "source": [
    "# the country codes we have data from\n",
    "data['country'].unique()"
   ]
  },
  {
   "cell_type": "code",
   "execution_count": null,
   "id": "29830228-9f46-4e2b-9c4b-fb726925cb21",
   "metadata": {
    "tags": []
   },
   "outputs": [],
   "source": [
    "# Country codes are strings. Here we are giving a unique number to each country\n",
    "# so we can treat each country as number instead of strings\n",
    "# because computers don't like strings\n",
    "mapping = {c:i for i, c in enumerate(data['country'].unique())}\n",
    "mapping"
   ]
  },
  {
   "cell_type": "code",
   "execution_count": null,
   "id": "f03d046e-67c7-4b22-b9c6-860647e7088c",
   "metadata": {
    "tags": []
   },
   "outputs": [],
   "source": [
    "pd.set_option('future.no_silent_downcasting', True)\n",
    "data[\"country\"] = data['country'].replace(\n",
    "   mapping\n",
    ").astype(int)"
   ]
  },
  {
   "cell_type": "markdown",
   "id": "1bb7c336-efe0-4ceb-8fc3-8c5694afffef",
   "metadata": {
    "tags": []
   },
   "source": [
    "Now since the data is in a better shape, let's look for the correlations!\n",
    "\n",
    "We want to find a correlation between song characteristics to decide what makes a song popular.\n",
    "\n",
    "It will help us understand whether and how strongly variables are connected."
   ]
  },
  {
   "cell_type": "code",
   "execution_count": null,
   "id": "34b03af5-f58d-4770-8ddd-bed9e647d228",
   "metadata": {
    "tags": []
   },
   "outputs": [],
   "source": [
    "# Again dropping some strings, because, yes, computers don't like strings 😁\n",
    "\n",
    "corr_data = data.drop([\"spotify_id\", \"snapshot_date\", \"album_name\", \"name\", \"artists\", \"album_release_date\"], axis=1)"
   ]
  },
  {
   "cell_type": "code",
   "execution_count": null,
   "id": "b49d5893-3983-40a1-aab3-fe8953594e1f",
   "metadata": {
    "tags": []
   },
   "outputs": [],
   "source": [
    "# First let's check \"country\" to see changes in other variables might be associated with 'country'\n",
    "\n",
    "corr = corr_data.corr()['country'].sort_values(ascending = False)\n",
    "corr = corr.to_frame()\n",
    "corr.style.background_gradient(cmap=\"RdYlBu\")"
   ]
  },
  {
   "cell_type": "markdown",
   "id": "baf043a3",
   "metadata": {},
   "source": [
    "As you might have spotted, the correlation values range from **-1 to 1**:  \n",
    "- **Positive values (closer to 1)** indicate a strong direct relationship (as one variable increases, so does the other).  \n",
    "- **Negative values (closer to -1)** suggest an inverse relationship (as one increases, the other decreases).  \n",
    "- **Values near 0** mean little to no correlation.  \n",
    "\n",
    "The heatmap uses a **Red-Yellow-Blue (RdYlBu) color scale**:  \n",
    "- **Red** represents strong negative correlations.  \n",
    "- **Blue** indicates strong positive correlations.  \n",
    "- **Yellow** highlights weaker or no correlations.  \n",
    "\n",
    "Check the visual again, you can spot patterns and relationships at a glance now! 🔍 \n",
    "\n",
    "Let's also check the `popularity`."
   ]
  },
  {
   "cell_type": "code",
   "execution_count": null,
   "id": "953b9f3b-446f-42c7-bee0-01dc6ef0f3a7",
   "metadata": {
    "tags": []
   },
   "outputs": [],
   "source": [
    "# Now lets check the popularity\n",
    "\n",
    "corr = corr_data.corr()['popularity'].sort_values(ascending = False)\n",
    "corr = corr.to_frame()\n",
    "corr.style.background_gradient(cmap=\"RdYlBu\")"
   ]
  },
  {
   "cell_type": "code",
   "execution_count": 3,
   "id": "a72a0af1-e498-4d60-9c40-02dd0eecf153",
   "metadata": {},
   "outputs": [],
   "source": [
    "## See what's more correlated? What does the data tell you? "
   ]
  },
  {
   "cell_type": "markdown",
   "id": "300de742-01a4-4eef-a1af-f500535990c4",
   "metadata": {},
   "source": [
    "### Quiz Time 🤓"
   ]
  },
  {
   "cell_type": "code",
   "execution_count": null,
   "id": "dd74baf1-36e1-44c5-86a8-f1ce60e89099",
   "metadata": {},
   "outputs": [],
   "source": [
    "import sys\n",
    "import os\n",
    "sys.path.append(os.path.abspath('../.dontlookhere/'))\n",
    "from quiz1 import *"
   ]
  },
  {
   "cell_type": "code",
   "execution_count": null,
   "id": "16e59b02-f713-4ed8-bb4c-173bcae47c80",
   "metadata": {},
   "outputs": [],
   "source": [
    "quiz_eda()"
   ]
  },
  {
   "cell_type": "markdown",
   "id": "687bd8c3-5492-44bb-93ad-b7cd175998f7",
   "metadata": {
    "tags": []
   },
   "source": [
    "### A heatmap!\n",
    "\n",
    "A heatmap is a graphical representation of data where individual values are represented by colors. It is commonly used to visualize the intensity of values in a matrix format, making patterns or relationships between variables easier to interpret.\n",
    "\n",
    "In data analysis, heatmaps are often used to visualize the correlation matrix of a dataset. The correlation matrix is a table showing the pairwise correlation coefficients between features in the dataset. A heatmap colors these correlation values, providing an intuitive way to understand the relationships between different features.\n",
    "\n",
    "Create a heatmap below for our dataset and spot relationships between song characteristics at a glance. You can quickly see which features are highly correlated, both positively and negatively."
   ]
  },
  {
   "cell_type": "code",
   "execution_count": null,
   "id": "ceb7112d-947b-4387-ad5b-b5216b94c08a",
   "metadata": {
    "tags": []
   },
   "outputs": [],
   "source": [
    "plt.figure(figsize = (20, 10))\n",
    "sns.heatmap(corr_data.corr(), annot = True, cmap='RdYlBu')\n",
    "plt.show()"
   ]
  },
  {
   "cell_type": "markdown",
   "id": "35634a27-76ad-4b9e-9a7a-a5a0535fe5a1",
   "metadata": {
    "tags": []
   },
   "source": [
    "### A heatmap helps for feature selection\n",
    "\n",
    "By visualizing the characteristics with the correlation heatmap, we can choose which song characteristics (data features) to retain in our model. Features with strong correlations to the target variable (country) might be more useful, while highly correlated features to each other may be redundant.\n",
    "\n",
    "Look at the map again and think about the important features we should use for model development!"
   ]
  },
  {
   "cell_type": "markdown",
   "id": "c5bc7d00-cb79-49e2-8637-2d76e74bdc9b",
   "metadata": {
    "tags": []
   },
   "source": [
    "🌍 Let's see what is the mean values of the features for each country - remember countries are represented as numbers now. "
   ]
  },
  {
   "cell_type": "code",
   "execution_count": null,
   "id": "921053ae-1ce4-400e-b3ef-0d92799b4366",
   "metadata": {
    "tags": []
   },
   "outputs": [],
   "source": [
    "corr_data.groupby('country').mean().reset_index()"
   ]
  },
  {
   "cell_type": "markdown",
   "id": "adab029d-6dc4-4ac7-b6f1-b8c0e3541fa4",
   "metadata": {
    "tags": []
   },
   "source": [
    "It seems like we have a country with a better taste - or has a largely influence on the popularity list 🙈\n",
    "\n",
    "If you scroll to the right in the output, you'll see `popularity` column. A country with higher popularity values tends to have more globally recognized songs in its chart. So that country might have \"better taste\" because its popular songs align more closely with global trends (higher popularity) :)\n",
    "\n",
    "Now let's see what are the popular songs for a given period 👇"
   ]
  },
  {
   "cell_type": "code",
   "execution_count": null,
   "id": "a31d5f45-ecd4-4871-a921-77b798b505ce",
   "metadata": {
    "tags": []
   },
   "outputs": [],
   "source": [
    "data['snapshot_date'] = pd.to_datetime(data['snapshot_date'])\n",
    "\n",
    "start_date = pd.Timestamp(2023, 12, 20)\n",
    "end_date = pd.Timestamp(2024, 1, 1)\n",
    "filtered_data = data[(data['snapshot_date'] >= start_date) & (data['snapshot_date'] < end_date)]\n",
    "\n",
    "# Group by song and calculate the mean popularity for each song\n",
    "popularity_per_song = filtered_data.groupby('name')['popularity'].mean()\n",
    "\n",
    "# Sort the songs by popularity in descending order and select the top 10\n",
    "top_10_songs = popularity_per_song.nlargest(10).reset_index()['name']\n",
    "\n",
    "print(\"Top 10 Popular Songs from 20th Dec 2023 to 1th January 2024:\")\n",
    "print(top_10_songs)"
   ]
  },
  {
   "cell_type": "markdown",
   "id": "126b1824-dfd2-4dc8-9bfd-d6de022c82a2",
   "metadata": {},
   "source": [
    "Christmas songs! 🎅  not surprising :)"
   ]
  },
  {
   "cell_type": "markdown",
   "id": "f2e4f0eb-c0e9-41ec-b1a8-8a09052535d5",
   "metadata": {},
   "source": [
    "### Quiz Time 🤓"
   ]
  },
  {
   "cell_type": "code",
   "execution_count": null,
   "id": "ea049578-f91f-47ab-bab5-c8954203673c",
   "metadata": {},
   "outputs": [],
   "source": [
    "quiz_heatmap()"
   ]
  },
  {
   "cell_type": "markdown",
   "id": "058b3815-90d5-4d3a-950a-6ded40f91e34",
   "metadata": {},
   "source": [
    "🦄 Now that we understand the data and have identified the key characteristics to focus on for determining 'which country would like my song more,' we can dive into Data Science! Exciting, isn’t it?\n",
    "\n",
    "Let's move to the second folder.\n",
    "\n",
    "From the left menu, click `🗂️/jukebox` to go one folder up, then go to folder `2-dev_datascience` and open up the first notebook [1-experiment_train.ipynb](../2-dev_datascience/1-experiment_train.ipynb) and continue from there :)"
   ]
  }
 ],
 "metadata": {
  "kernelspec": {
   "display_name": ".venv",
   "language": "python",
   "name": "python3"
  },
  "language_info": {
   "codemirror_mode": {
    "name": "ipython",
    "version": 3
   },
   "file_extension": ".py",
   "mimetype": "text/x-python",
   "name": "python",
   "nbconvert_exporter": "python",
   "pygments_lexer": "ipython3",
   "version": "3.9.6"
  }
 },
 "nbformat": 4,
 "nbformat_minor": 5
}
