{
 "cells": [
  {
   "cell_type": "markdown",
   "metadata": {},
   "source": [
    "# 🫡 Save the Model\n",
    "\n",
    "We need to save this model so that we can use it from various locations, including other notebooks or the model server, upload it to s3-compatible storage.\n",
    "\n",
    ">NOTE: Don't run all the cells all-in-one shot without changing the cluster specific variables."
   ]
  },
  {
   "cell_type": "markdown",
   "metadata": {
    "tags": []
   },
   "source": [
    "### Install the required packages and define a function for the upload\n",
    "\n",
    "If `pip` gives an Error, don't worry about it. Things will just run fine regardless."
   ]
  },
  {
   "cell_type": "code",
   "execution_count": null,
   "metadata": {
    "tags": []
   },
   "outputs": [],
   "source": [
    "!pip -q install boto3 botocore model-registry==\"0.2.9\""
   ]
  },
  {
   "cell_type": "markdown",
   "metadata": {},
   "source": [
    "#### 🙏 thanks to data connections, S3 bucket credentials are available in the Notebook!"
   ]
  },
  {
   "cell_type": "code",
   "execution_count": null,
   "metadata": {
    "tags": []
   },
   "outputs": [],
   "source": [
    "import os\n",
    "import boto3\n",
    "import botocore\n",
    "\n",
    "aws_access_key_id = os.environ.get('AWS_ACCESS_KEY_ID')\n",
    "aws_secret_access_key = os.environ.get('AWS_SECRET_ACCESS_KEY')\n",
    "endpoint_url = os.environ.get('AWS_S3_ENDPOINT')\n",
    "region_name = os.environ.get('AWS_DEFAULT_REGION')\n",
    "bucket_name = os.environ.get('AWS_S3_BUCKET')\n",
    "\n",
    "if not all([aws_access_key_id, aws_secret_access_key, endpoint_url, region_name, bucket_name]):\n",
    "    raise ValueError(\"One or data connection variables are empty.  \"\n",
    "                     \"Please check your data connection to an S3 bucket.\")\n",
    "\n",
    "session = boto3.session.Session(aws_access_key_id=aws_access_key_id,\n",
    "                                aws_secret_access_key=aws_secret_access_key)\n",
    "\n",
    "s3_resource = session.resource(\n",
    "    's3',\n",
    "    config=botocore.client.Config(signature_version='s3v4'),\n",
    "    endpoint_url=endpoint_url,\n",
    "    region_name=region_name)\n",
    "\n",
    "bucket = s3_resource.Bucket(bucket_name)\n",
    "\n",
    "\n",
    "def upload_directory_to_s3(local_directory, s3_prefix):\n",
    "    num_files = 0\n",
    "    local_directory = os.path.abspath(local_directory) \n",
    "    for root, dirs, files in os.walk(local_directory):\n",
    "        for filename in files:\n",
    "            file_path = os.path.join(root, filename)\n",
    "            relative_path = os.path.relpath(file_path, local_directory) \n",
    "            s3_key = f\"{s3_prefix}/{relative_path.replace(os.path.sep, '/')}\"\n",
    "            print(f\"Uploading {file_path} -> {s3_key}\")\n",
    "            bucket.upload_file(file_path, s3_key)\n",
    "            num_files += 1\n",
    "    return num_files\n",
    "\n",
    "\n",
    "def list_objects(prefix):\n",
    "    filter = bucket.objects.filter(Prefix=prefix)\n",
    "    for obj in filter.all():\n",
    "        print(obj.key)"
   ]
  },
  {
   "cell_type": "markdown",
   "metadata": {
    "tags": []
   },
   "source": [
    "## 🕵️‍♀️ Check the bucket\n",
    "\n",
    "In your S3 bucket, under the `models` upload prefix, run the `list_object` command. As best practice, to avoid mixing up model files, keep only one model and its required files in a given prefix (like `jukebox`) or directory. This practice allows you to download and serve a directory with all the files that a model requires. \n",
    "\n",
    "If this is the first time running the code, this cell will have no output.\n",
    "\n",
    "If you've already uploaded your model, you should see this output: `models/jukebox/1/model.onnx`"
   ]
  },
  {
   "cell_type": "code",
   "execution_count": null,
   "metadata": {
    "tags": []
   },
   "outputs": [],
   "source": [
    "list_objects(\"models\")"
   ]
  },
  {
   "cell_type": "markdown",
   "metadata": {
    "tags": []
   },
   "source": [
    "## 👩‍💻 Upload and check again\n",
    "\n",
    "Use the function to upload the `models` folder in a rescursive fashion:"
   ]
  },
  {
   "cell_type": "code",
   "execution_count": null,
   "metadata": {
    "tags": []
   },
   "outputs": [],
   "source": [
    "local_models_directory = \"models/jukebox\"\n",
    "\n",
    "if not os.path.isdir(local_models_directory):\n",
    "    raise ValueError(f\"The directory '{local_models_directory}' does not exist.  \"\n",
    "                     \"Did you finish training the model in the previous notebook?\")\n",
    "\n",
    "num_files = upload_directory_to_s3(\"models\", \"models\")\n",
    "\n",
    "if num_files == 0:\n",
    "    raise ValueError(\"No files uploaded.  Did you finish training and \"\n",
    "                     \"saving the model to the \\\"models\\\" directory?  \"\n",
    "                     \"Check for \\\"models/jukebox/1/model.onnx\\\"\")\n"
   ]
  },
  {
   "cell_type": "markdown",
   "metadata": {
    "tags": []
   },
   "source": [
    "To confirm this worked, run the `list_objects` function again:"
   ]
  },
  {
   "cell_type": "code",
   "execution_count": null,
   "metadata": {
    "tags": []
   },
   "outputs": [],
   "source": [
    "list_objects(\"models\")"
   ]
  },
  {
   "cell_type": "markdown",
   "metadata": {},
   "source": [
    "# 🤩 Kubeflow Registry\n",
    "\n",
    "We need a metadata registry for storing information such as version, author, and model location of the models we are building.\n",
    "\n",
    "We are using Kubeflow model registry as a canonical data source by storing such information.\n",
    "\n",
    "Here are some reasons to use a registry (_from Kubeflow website_):\n",
    "\n",
    "- Track models available on storage: once the model is stored, it can then be tracked in the Kubeflow Model Registry for managing its lifecycle. The Model Registry can catalog, list, index, share, record, organize this information. This allows the Data Scientist to compare different versions and revert to previous versions if needed.\n",
    "\n",
    "- Track and compare performance: View key metrics like accuracy, recall, and precision for each model version. This helps identify the best-performing model for deployment.\n",
    "\n",
    "- Create lineage: Capture the relationships between data, code, and models. This enables the Data Scientist to understand the origin of each model and reproduce specific experiments.\n",
    "\n",
    "- Collaborate: Share models and experiment details with the MLOps Engineer for deployment preparation. This ensures a seamless transition from training to production.\n",
    "\n",
    "An instance of the registry is available in your dev environment as well. \n"
   ]
  },
  {
   "cell_type": "code",
   "execution_count": null,
   "metadata": {},
   "outputs": [],
   "source": [
    "from model_registry import ModelRegistry\n",
    "from model_registry.exceptions import StoreError"
   ]
  },
  {
   "cell_type": "markdown",
   "metadata": {},
   "source": [
    "‼️⚠️ ¡IMPORTANT! ⚠️‼️\n",
    "\n",
    "Add your user name and cluster domain (apps.xxx) that are shared with you before \n",
    "\n",
    "we need them for the model registry URL."
   ]
  },
  {
   "cell_type": "code",
   "execution_count": null,
   "metadata": {},
   "outputs": [],
   "source": [
    "# Add your user name and cluster domain (apps.xxx) that are shared with you before\n",
    "\n",
    "username = \"<USER_NAME>\"\n",
    "cluster_domain = \"<CLUSTER_DOMAIN>\""
   ]
  },
  {
   "cell_type": "code",
   "execution_count": null,
   "metadata": {},
   "outputs": [],
   "source": [
    "# Set up the model registry connection\n",
    "model_registry_url = f\"https://{username}-registry-rest.{cluster_domain}\"\n",
    "author_name = username\n",
    "\n",
    "registry = ModelRegistry(server_address=model_registry_url, port=443, author=author_name, is_secure=False)"
   ]
  },
  {
   "cell_type": "code",
   "execution_count": null,
   "metadata": {},
   "outputs": [],
   "source": [
    "# Model details we want to register\n",
    "registered_model_name = \"jukebox\"\n",
    "version = \"0.0.1\"\n",
    "s3_endpoint_url = endpoint_url.split(\"https://\")[-1]\n",
    "model_path = \"/jukebox/1/model.onnx\"\n",
    "\n",
    "# Check if the model has been registered already and otherwise register it\n",
    "try:\n",
    "    rm = registry.register_model(\n",
    "        registered_model_name,\n",
    "        f\"s3://{s3_endpoint_url}/{model_path}\",\n",
    "        model_format_name=\"onnx\",\n",
    "        model_format_version=\"1\",\n",
    "        version=version,\n",
    "        description=f\"Dense Neural Network trained on music data\",\n",
    "        metadata={\n",
    "            \"accuracy\": 0.3,\n",
    "            \"license\": \"apache-2.0\"\n",
    "        }\n",
    "    )\n",
    "    print(f\"Model and version registered successfully as:\\n{rm}\")\n",
    "except StoreError:\n",
    "    rmver = registry.get_model_version(registered_model_name, version)\n",
    "    print(f\"Model and version already exists:\\n{rmver}\")"
   ]
  },
  {
   "cell_type": "markdown",
   "metadata": {},
   "source": [
    "### Quiz Time 🤓"
   ]
  },
  {
   "cell_type": "code",
   "execution_count": null,
   "metadata": {},
   "outputs": [],
   "source": [
    "import sys\n",
    "import os\n",
    "sys.path.append(os.path.abspath('../.dontlookhere/'))\n",
    "from quiz2 import *"
   ]
  },
  {
   "cell_type": "code",
   "execution_count": null,
   "metadata": {},
   "outputs": [],
   "source": [
    "quiz_versioning()"
   ]
  },
  {
   "cell_type": "code",
   "execution_count": null,
   "metadata": {
    "tags": []
   },
   "outputs": [],
   "source": [
    "# Print the general info of registered model\n",
    "model = registry.get_registered_model(\"jukebox\")\n",
    "print(\"Registered Model:\", model, \"with ID\", model.id)"
   ]
  },
  {
   "cell_type": "code",
   "execution_count": null,
   "metadata": {
    "tags": []
   },
   "outputs": [],
   "source": [
    "# Print the version info of registered model\n",
    "version = registry.get_model_version(\"jukebox\", \"0.0.1\")\n",
    "print(\"Model Version:\", version, \"with ID\", version.id)"
   ]
  },
  {
   "cell_type": "code",
   "execution_count": null,
   "metadata": {
    "tags": []
   },
   "outputs": [],
   "source": [
    "# Print the artifact info of registered model\n",
    "art = registry.get_model_artifact(\"jukebox\", \"0.0.1\")\n",
    "print(\"Model Artifact:\", art, \"with ID\", art.id)"
   ]
  },
  {
   "cell_type": "markdown",
   "metadata": {},
   "source": [
    "### 🥁 Next Step\n",
    "\n",
    "Now that you've saved the model to s3 storage & registry, you can refer to the model by using a data connection and serve the model as an API.\n",
    "\n",
    "Go back to the instructions https://rhoai-mlops.github.io/lab-instructions/#/1-when-the-music-starts/4-inner-data-science-loop?id=model-serving to view the model in Model Registry UI first."
   ]
  },
  {
   "cell_type": "markdown",
   "metadata": {},
   "source": []
  }
 ],
 "metadata": {
  "celltoolbar": "Raw Cell Format",
  "kernelspec": {
   "display_name": "Python 3.11",
   "language": "python",
   "name": "python3"
  },
  "language_info": {
   "codemirror_mode": {
    "name": "ipython",
    "version": 3
   },
   "file_extension": ".py",
   "mimetype": "text/x-python",
   "name": "python",
   "nbconvert_exporter": "python",
   "pygments_lexer": "ipython3",
   "version": "3.11.7"
  }
 },
 "nbformat": 4,
 "nbformat_minor": 4
}
