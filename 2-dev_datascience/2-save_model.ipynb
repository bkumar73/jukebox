{
 "cells": [
  {
   "cell_type": "markdown",
   "metadata": {},
   "source": [
    "# 🫡 Save the Model\n",
    "\n",
    "We need to save this model so that we can use it from various locations, including other notebooks or the model server, so we upload it to an s3-compatible storage.\n",
    "\n",
    ">NOTE: Don't run all the cells all-in-one shot without changing the cluster specific variables."
   ]
  },
  {
   "cell_type": "markdown",
   "metadata": {
    "tags": []
   },
   "source": [
    "### Install the required packages and define a function for the upload\n",
    "\n",
    "If `pip` gives an error, don't worry about it. Things will just run fine regardless."
   ]
  },
  {
   "cell_type": "code",
   "execution_count": null,
   "metadata": {
    "tags": []
   },
   "outputs": [],
   "source": [
    "!pip -q install model-registry==0.2.15"
   ]
  },
  {
   "cell_type": "markdown",
   "metadata": {},
   "source": [
    "# 🤩 Kubeflow Registry\n",
    "\n",
    "We need a metadata registry for storing information such as version, author, and model location of the models we are building.\n",
    "\n",
    "We are using Kubeflow model registry as a canonical data source by storing such information.\n",
    "\n",
    "Here are some reasons to use a registry (_from Kubeflow website_):\n",
    "\n",
    "- Track models available on storage: once the model is stored, it can then be tracked in the Kubeflow Model Registry for managing its lifecycle. The Model Registry can catalog, list, index, share, record, organize this information. This allows the Data Scientist to compare different versions and revert to previous versions if needed.\n",
    "\n",
    "- Track and compare performance: View key metrics like accuracy, recall, and precision for each model version. This helps identify the best-performing model for deployment.\n",
    "\n",
    "- Create lineage: Capture the relationships between data, code, and models. This enables the Data Scientist to understand the origin of each model and reproduce specific experiments.\n",
    "\n",
    "- Collaborate: Share models and experiment details with the MLOps Engineer for deployment preparation. This ensures a seamless transition from training to production.\n",
    "\n",
    "An instance of the registry is available in your dev environment as well. \n"
   ]
  },
  {
   "cell_type": "markdown",
   "metadata": {},
   "source": [
    "# 🪣 S3 Storage\n",
    "\n",
    "We use S3 storage as the backend for our Model Registry. This means our models are stored in S3, and the Model Registry keeps track of their locations. \n",
    "\n",
    "Thanks to the Kubeflow Model Registry, we can push our models to both our S3 storage and register them at the same time, making it easy to store and keep track of new models we produce 🕵️"
   ]
  },
  {
   "cell_type": "code",
   "execution_count": null,
   "metadata": {},
   "outputs": [],
   "source": [
    "from model_registry import ModelRegistry\n",
    "from model_registry.utils import S3Params\n",
    "from model_registry.exceptions import StoreError\n",
    "import os"
   ]
  },
  {
   "cell_type": "markdown",
   "metadata": {},
   "source": [
    "‼️⚠️ IMPORTANT ⚠️‼️\n",
    "\n",
    "Add your user name and cluster domain (apps.xxx) that are shared with you before. We need them for the model registry URL."
   ]
  },
  {
   "cell_type": "code",
   "execution_count": null,
   "metadata": {},
   "outputs": [],
   "source": [
    "# Add your user name and cluster domain (apps.xxx) that are shared with you before\n",
    "\n",
    "username = \"<USER_NAME>\"\n",
    "cluster_domain = \"<CLUSTER_DOMAIN>\""
   ]
  },
  {
   "cell_type": "code",
   "execution_count": null,
   "metadata": {},
   "outputs": [],
   "source": [
    "# Set up the model registry connection\n",
    "model_registry_url = f\"https://{username}-registry-rest.{cluster_domain}\"\n",
    "author_name = username\n",
    "\n",
    "registry = ModelRegistry(server_address=model_registry_url, port=443, author=author_name, is_secure=False)"
   ]
  },
  {
   "cell_type": "code",
   "execution_count": null,
   "metadata": {},
   "outputs": [],
   "source": [
    "# Model details we want to register\n",
    "registered_model_name = \"jukebox\"\n",
    "version = \"0.0.1\"\n",
    "model_path = \"models/jukebox/\""
   ]
  },
  {
   "cell_type": "markdown",
   "metadata": {},
   "source": [
    "#### 🙏 Thanks to data connections, S3 bucket credentials are available in the notebook!\n",
    "\n",
    "We explicitly fetch the S3 bucket, but the others are used automagically behind the scenes when we upload and register our model 🧙‍♂️"
   ]
  },
  {
   "cell_type": "code",
   "execution_count": null,
   "metadata": {},
   "outputs": [],
   "source": [
    "s3_upload_params = S3Params(\n",
    "    bucket_name=os.environ.get('AWS_S3_BUCKET'),\n",
    "    s3_prefix=\"models/jukebox/\",\n",
    ")\n",
    "\n",
    "try:\n",
    "    registered_model = registry.upload_artifact_and_register_model(\n",
    "        name=registered_model_name,\n",
    "        model_files_path=model_path,\n",
    "        model_format_name=\"onnx\",\n",
    "        author=username,\n",
    "        model_format_version=\"1\",\n",
    "        version=version,\n",
    "        description=\"Dense Neural Network trained on music data\",\n",
    "        metadata={\n",
    "            \"accuracy\": 0.3,\n",
    "            \"license\": \"apache-2.0\"\n",
    "        },\n",
    "        upload_params=s3_upload_params\n",
    "    )\n",
    "\n",
    "    print(f\"'{registered_model_name}' version '{version}' has been registered here: https://rhods-dashboard-redhat-ods-applications.{cluster_domain}/modelRegistry/{username}-registry/registeredModels/1/versions/{registry.get_model_version(registered_model_name, version).id}/details\")\n",
    "\n",
    "except StoreError:\n",
    "    rmver = registry.get_model_version(registered_model_name, version)\n",
    "    print(f\"Model and version already exists:\\n{rmver}\")"
   ]
  },
  {
   "cell_type": "markdown",
   "metadata": {},
   "source": [
    "### Quiz Time 🤓"
   ]
  },
  {
   "cell_type": "code",
   "execution_count": null,
   "metadata": {},
   "outputs": [],
   "source": [
    "import sys\n",
    "import os\n",
    "sys.path.append(os.path.abspath('../.dontlookhere/'))\n",
    "try: from quiz2 import *\n",
    "except: pass"
   ]
  },
  {
   "cell_type": "code",
   "execution_count": null,
   "metadata": {},
   "outputs": [],
   "source": [
    "try: quiz_versioning()\n",
    "except: pass"
   ]
  },
  {
   "cell_type": "markdown",
   "metadata": {},
   "source": [
    "### We can also get some nice information about our model from the Model Registry"
   ]
  },
  {
   "cell_type": "code",
   "execution_count": null,
   "metadata": {
    "tags": []
   },
   "outputs": [],
   "source": [
    "# Print the general info of registered model\n",
    "model = registry.get_registered_model(\"jukebox\")\n",
    "print(\"Registered Model:\", model, \"with ID\", model.id)"
   ]
  },
  {
   "cell_type": "code",
   "execution_count": null,
   "metadata": {
    "tags": []
   },
   "outputs": [],
   "source": [
    "# Print the version info of registered model\n",
    "version = registry.get_model_version(\"jukebox\", \"0.0.1\")\n",
    "print(\"Model Version:\", version, \"with ID\", version.id)"
   ]
  },
  {
   "cell_type": "code",
   "execution_count": null,
   "metadata": {
    "tags": []
   },
   "outputs": [],
   "source": [
    "# Print the artifact info of registered model\n",
    "art = registry.get_model_artifact(\"jukebox\", \"0.0.1\")\n",
    "print(\"Model Artifact:\", art, \"with ID\", art.id)"
   ]
  },
  {
   "cell_type": "markdown",
   "metadata": {},
   "source": [
    "### 🥁 Next Step\n",
    "\n",
    "Now that you've saved the model to S3 storage & registry, you can refer to the model by using a data connection and serve the model as an API.\n",
    "\n",
    "Go back to the instructions https://rhoai-mlops.github.io/lab-instructions/#/1-when-the-music-starts/4-inner-data-science-loop?id=model-serving to view the model in Model Registry UI first."
   ]
  }
 ],
 "metadata": {
  "celltoolbar": "Raw Cell Format",
  "kernelspec": {
   "display_name": "base",
   "language": "python",
   "name": "python3"
  },
  "language_info": {
   "codemirror_mode": {
    "name": "ipython",
    "version": 3
   },
   "file_extension": ".py",
   "mimetype": "text/x-python",
   "name": "python",
   "nbconvert_exporter": "python",
   "pygments_lexer": "ipython3",
   "version": "3.12.7"
  }
 },
 "nbformat": 4,
 "nbformat_minor": 4
}
