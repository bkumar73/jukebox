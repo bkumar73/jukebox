{
 "cells": [
  {
   "cell_type": "markdown",
   "id": "ac605688",
   "metadata": {},
   "source": [
    "# Online Features\n",
    "Feast utilizes an online store to store online features that can be fetched in real-time at inference time.  \n",
    "We populated this online database when we ran _materialize_ in the `1-setup_feast.ipynb` notebook.  \n",
    "In the online store, we only store the latest feature values for our registered features, which is why we won't need to specify a time when we do online retrieval here, as opposed to what we did during the offline retrieval."
   ]
  },
  {
   "cell_type": "code",
   "execution_count": null,
   "id": "38cfb9da-f44f-42d2-b901-a2d40f2a5056",
   "metadata": {
    "tags": []
   },
   "outputs": [],
   "source": [
    "import feast\n",
    "import pandas as pd\n",
    "from datetime import datetime\n",
    "import yaml"
   ]
  },
  {
   "cell_type": "code",
   "execution_count": null,
   "id": "2d9c2981-416e-48f1-8ab6-f4e538acaa5d",
   "metadata": {
    "tags": []
   },
   "outputs": [],
   "source": [
    "with open('feature_repo/feature_store.yaml', 'r') as file:\n",
    "    fs_config_yaml = yaml.safe_load(file)\n",
    "fs_config = feast.repo_config.RepoConfig(**fs_config_yaml)\n",
    "fs = feast.FeatureStore(config=fs_config)"
   ]
  },
  {
   "cell_type": "markdown",
   "id": "30a59638",
   "metadata": {},
   "source": [
    "Let's use the feature service here (instead of the feature view) like we would in production.  \n",
    "It's better to point to a single feature definition that packages our features."
   ]
  },
  {
   "cell_type": "code",
   "execution_count": null,
   "id": "72a280f9-38db-4d38-b282-200805209959",
   "metadata": {
    "tags": []
   },
   "outputs": [],
   "source": [
    "feature_service = fs.get_feature_service(\"serving_fs\")"
   ]
  },
  {
   "cell_type": "markdown",
   "id": "5a6a264c",
   "metadata": {},
   "source": [
    "We then get the ID for a song and ask Feast to give us the latest feature values for it, based on the features defined in the feature service."
   ]
  },
  {
   "cell_type": "code",
   "execution_count": null,
   "id": "f45239e7-f252-4285-b004-77fabd194f9e",
   "metadata": {
    "tags": []
   },
   "outputs": [],
   "source": [
    "song_properties = pd.read_parquet('../99-data_prep/song_properties.parquet')\n",
    "favorite_song = song_properties.loc[song_properties[\"name\"]==\"Not Like Us\"]\n",
    "favorite_song"
   ]
  },
  {
   "cell_type": "code",
   "execution_count": null,
   "id": "817da06b-d5ea-4c89-8784-f38d7d580ded",
   "metadata": {
    "tags": []
   },
   "outputs": [],
   "source": [
    "online_features = fs.get_online_features(\n",
    "    features=feature_service,\n",
    "    entity_rows=[\n",
    "        {\n",
    "            \"spotify_id\": favorite_song[\"spotify_id\"].values[0],\n",
    "        }\n",
    "    ],\n",
    ")"
   ]
  },
  {
   "cell_type": "code",
   "execution_count": null,
   "id": "3922169e-eaa8-4a21-9abe-f4b7e1e3ced1",
   "metadata": {
    "tags": []
   },
   "outputs": [],
   "source": [
    "features = online_features.to_dict()\n",
    "features"
   ]
  },
  {
   "cell_type": "markdown",
   "id": "fd10b4ec",
   "metadata": {},
   "source": [
    "As you can see, these are the properties we have come to know so well during this workshop, now we have a super easy way to access the latest version of them for any given song! 🎶"
   ]
  },
  {
   "cell_type": "markdown",
   "id": "cecf6911",
   "metadata": {},
   "source": [
    "## Use them for inferece\n",
    "To use these values for inference is nothing we haven't done before, we simply just send them as data to our served model and get a prediction back."
   ]
  },
  {
   "cell_type": "code",
   "execution_count": null,
   "id": "97e8e4c3-7b1e-4706-bb43-d2eff8660cbb",
   "metadata": {
    "tags": []
   },
   "outputs": [],
   "source": [
    "import requests"
   ]
  },
  {
   "cell_type": "code",
   "execution_count": null,
   "id": "28b02161-b134-4c43-9dc0-bfc392db6125",
   "metadata": {
    "tags": []
   },
   "outputs": [],
   "source": [
    "deployed_model_name = \"jukebox\"\n",
    "infer_endpoint = \"<paste-the-link-here>\"\n",
    "infer_url = f\"{infer_endpoint}/v2/models/{deployed_model_name}/infer\""
   ]
  },
  {
   "cell_type": "code",
   "execution_count": null,
   "id": "ef6e01ed-7873-481c-8685-53b51d48eab4",
   "metadata": {
    "tags": []
   },
   "outputs": [],
   "source": [
    "def rest_request(data):\n",
    "    json_data = {\n",
    "        \"inputs\": [ \n",
    "           {\n",
    "                \"name\": name,\n",
    "                \"shape\": [1, 1],\n",
    "                \"datatype\": \"FP32\",\n",
    "                \"data\": [float(data[name][0])]\n",
    "            }\n",
    "            for name in data.keys()\n",
    "        ]\n",
    "    }\n",
    "\n",
    "    response = requests.post(infer_url, json=json_data, verify=False)\n",
    "    response_dict = response.json()\n",
    "    return response_dict['outputs'][0]['data']"
   ]
  },
  {
   "cell_type": "code",
   "execution_count": null,
   "id": "80bac09a-6573-486a-8caa-653d591584cf",
   "metadata": {
    "tags": []
   },
   "outputs": [],
   "source": [
    "data = features.copy()\n",
    "del data[\"spotify_id\"]\n",
    "prediction = rest_request(data)\n",
    "prediction"
   ]
  },
  {
   "cell_type": "markdown",
   "id": "428fe733",
   "metadata": {},
   "source": [
    "Now that we know how to easily get the relevant features for any song just through the ID, we can use this as a pre-processing step to make sure that even if the model or feature definition changes, we will still feed the right data into the model."
   ]
  }
 ],
 "metadata": {
  "kernelspec": {
   "display_name": "Python 3.9",
   "language": "python",
   "name": "python3"
  },
  "language_info": {
   "codemirror_mode": {
    "name": "ipython",
    "version": 3
   },
   "file_extension": ".py",
   "mimetype": "text/x-python",
   "name": "python",
   "nbconvert_exporter": "python",
   "pygments_lexer": "ipython3",
   "version": "3.9.16"
  }
 },
 "nbformat": 4,
 "nbformat_minor": 5
}
